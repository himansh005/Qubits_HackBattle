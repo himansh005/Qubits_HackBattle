{
 "cells": [
  {
   "cell_type": "code",
   "execution_count": 2,
   "metadata": {},
   "outputs": [
    {
     "name": "stderr",
     "output_type": "stream",
     "text": [
      "/home/deepak/anaconda3/envs/2048game/lib/python3.6/site-packages/h5py/__init__.py:36: FutureWarning: Conversion of the second argument of issubdtype from `float` to `np.floating` is deprecated. In future, it will be treated as `np.float64 == np.dtype(float).type`.\n",
      "  from ._conv import register_converters as _register_converters\n"
     ]
    }
   ],
   "source": [
    "import tensorflow"
   ]
  },
  {
   "cell_type": "code",
   "execution_count": 5,
   "metadata": {},
   "outputs": [],
   "source": [
    "import sys\n",
    "import os\n",
    "from keras.preprocessing.image import ImageDataGenerator\n",
    "from keras import optimizers\n",
    "from keras.models import Sequential\n",
    "from keras.layers import Dropout, Flatten, Dense, Activation\n",
    "from keras.layers.convolutional import Convolution2D, MaxPooling2D\n",
    "from keras import callbacks\n",
    "from keras.models import load_model\n"
   ]
  },
  {
   "cell_type": "code",
   "execution_count": 3,
   "metadata": {},
   "outputs": [],
   "source": [
    "DEV = False\n",
    "argvs = sys.argv\n",
    "argc = len(argvs)"
   ]
  },
  {
   "cell_type": "code",
   "execution_count": 4,
   "metadata": {},
   "outputs": [],
   "source": [
    "if argc > 1 and (argvs[1] == \"--development\" or argvs[1] == \"-d\"):\n",
    "    DEV = True"
   ]
  },
  {
   "cell_type": "code",
   "execution_count": 5,
   "metadata": {},
   "outputs": [],
   "source": [
    "if DEV:\n",
    "    epochs = 2\n",
    "else:\n",
    "    epochs = 15"
   ]
  },
  {
   "cell_type": "code",
   "execution_count": 6,
   "metadata": {},
   "outputs": [],
   "source": [
    "train_data_path = './data/train'\n",
    "validation_data_path = './data/validation'"
   ]
  },
  {
   "cell_type": "code",
   "execution_count": 39,
   "metadata": {},
   "outputs": [],
   "source": [
    "img_width, img_height = 100, 100 \n",
    "batch_size = 8\n",
    "samples_per_epoch = 8\n",
    "validation_steps = 3\n",
    "nb_filters1 = 32\n",
    "nb_filters2 = 64\n",
    "conv1_size = 3\n",
    "conv2_size = 2\n",
    "pool_size = 2\n",
    "classes_num = 2\n",
    "lr = 0.0004"
   ]
  },
  {
   "cell_type": "code",
   "execution_count": 40,
   "metadata": {},
   "outputs": [
    {
     "name": "stderr",
     "output_type": "stream",
     "text": [
      "/home/deepak/anaconda3/envs/2048game/lib/python3.6/site-packages/ipykernel_launcher.py:2: UserWarning: Update your `Conv2D` call to the Keras 2 API: `Conv2D(32, (3, 3), input_shape=(100, 100,..., padding=\"same\")`\n",
      "  \n",
      "/home/deepak/anaconda3/envs/2048game/lib/python3.6/site-packages/ipykernel_launcher.py:6: UserWarning: Update your `Conv2D` call to the Keras 2 API: `Conv2D(64, (2, 2), padding=\"same\")`\n",
      "  \n",
      "/home/deepak/anaconda3/envs/2048game/lib/python3.6/site-packages/ipykernel_launcher.py:8: UserWarning: Update your `MaxPooling2D` call to the Keras 2 API: `MaxPooling2D(pool_size=(2, 2), data_format=\"channels_first\")`\n",
      "  \n"
     ]
    }
   ],
   "source": [
    "model = Sequential()\n",
    "model.add(Convolution2D(nb_filters1, conv1_size, conv1_size, border_mode =\"same\", input_shape=(img_width, img_height, 3)))\n",
    "model.add(Activation(\"relu\"))\n",
    "model.add(MaxPooling2D(pool_size=(pool_size, pool_size)))\n",
    "\n",
    "model.add(Convolution2D(nb_filters2, conv2_size, conv2_size, border_mode =\"same\"))\n",
    "model.add(Activation(\"relu\"))\n",
    "model.add(MaxPooling2D(pool_size=(pool_size, pool_size), dim_ordering='th'))\n",
    "\n",
    "model.add(Flatten())\n",
    "model.add(Dense(256))\n",
    "model.add(Activation(\"relu\"))\n",
    "model.add(Dropout(0.5))\n",
    "model.add(Dense(classes_num, activation='softmax'))\n",
    "\n",
    "model.compile(loss='categorical_crossentropy',\n",
    "              optimizer=optimizers.RMSprop(lr=lr),\n",
    "              metrics=['accuracy'])"
   ]
  },
  {
   "cell_type": "code",
   "execution_count": 47,
   "metadata": {},
   "outputs": [],
   "source": [
    "train_datagen = ImageDataGenerator(\n",
    "    rescale=1. / 255,\n",
    "    shear_range=0.2,\n",
    "    zoom_range=0.2,\n",
    "    horizontal_flip=False)"
   ]
  },
  {
   "cell_type": "code",
   "execution_count": 48,
   "metadata": {},
   "outputs": [],
   "source": [
    "test_datagen = ImageDataGenerator(rescale=1. / 255)"
   ]
  },
  {
   "cell_type": "code",
   "execution_count": 49,
   "metadata": {},
   "outputs": [
    {
     "name": "stdout",
     "output_type": "stream",
     "text": [
      "Found 112 images belonging to 2 classes.\n"
     ]
    }
   ],
   "source": [
    "train_generator = train_datagen.flow_from_directory(\n",
    "    train_data_path,\n",
    "    target_size=(img_height, img_width),\n",
    "    batch_size=batch_size,\n",
    "    class_mode='categorical')"
   ]
  },
  {
   "cell_type": "code",
   "execution_count": 50,
   "metadata": {},
   "outputs": [
    {
     "name": "stdout",
     "output_type": "stream",
     "text": [
      "Found 16 images belonging to 2 classes.\n"
     ]
    }
   ],
   "source": [
    "validation_generator = test_datagen.flow_from_directory(\n",
    "    validation_data_path,\n",
    "    target_size=(img_height, img_width),\n",
    "    batch_size=batch_size,\n",
    "    class_mode='categorical')"
   ]
  },
  {
   "cell_type": "code",
   "execution_count": 51,
   "metadata": {},
   "outputs": [],
   "source": [
    "\"\"\"\n",
    "Tensorboard log\n",
    "\"\"\"\n",
    "log_dir = './tf-log/'\n",
    "tb_cb = callbacks.TensorBoard(log_dir=log_dir, histogram_freq=0)\n",
    "cbks = [tb_cb]"
   ]
  },
  {
   "cell_type": "code",
   "execution_count": 52,
   "metadata": {},
   "outputs": [
    {
     "name": "stderr",
     "output_type": "stream",
     "text": [
      "/home/deepak/anaconda3/envs/2048game/lib/python3.6/site-packages/ipykernel_launcher.py:7: UserWarning: Update your `fit_generator` call to the Keras 2 API: `fit_generator(<keras_pre..., epochs=15, validation_data=<keras_pre..., callbacks=[<keras.ca..., validation_steps=3, steps_per_epoch=1)`\n",
      "  import sys\n"
     ]
    },
    {
     "name": "stdout",
     "output_type": "stream",
     "text": [
      "Epoch 1/15\n",
      "1/1 [==============================] - 1s 591ms/step - loss: 1.8766 - acc: 0.0000e+00 - val_loss: 1.3722 - val_acc: 0.4167\n",
      "Epoch 2/15\n",
      "1/1 [==============================] - 1s 569ms/step - loss: 1.4694 - acc: 0.5000 - val_loss: 0.5020 - val_acc: 0.6667\n",
      "Epoch 3/15\n",
      "1/1 [==============================] - 1s 536ms/step - loss: 0.8321 - acc: 0.7500 - val_loss: 0.3297 - val_acc: 0.9167\n",
      "Epoch 4/15\n",
      "1/1 [==============================] - 1s 519ms/step - loss: 0.2439 - acc: 0.8750 - val_loss: 0.9540 - val_acc: 0.4167\n",
      "Epoch 5/15\n",
      "1/1 [==============================] - 1s 511ms/step - loss: 1.3168 - acc: 0.5000 - val_loss: 1.3644 - val_acc: 0.4583\n",
      "Epoch 6/15\n",
      "1/1 [==============================] - 1s 523ms/step - loss: 1.9431 - acc: 0.6250 - val_loss: 0.3708 - val_acc: 0.9583\n",
      "Epoch 7/15\n",
      "1/1 [==============================] - 0s 499ms/step - loss: 0.8141 - acc: 0.7500 - val_loss: 0.5880 - val_acc: 0.6250\n",
      "Epoch 8/15\n",
      "1/1 [==============================] - 1s 676ms/step - loss: 0.7477 - acc: 0.6250 - val_loss: 0.3366 - val_acc: 0.8750\n",
      "Epoch 9/15\n",
      "1/1 [==============================] - 1s 577ms/step - loss: 0.7193 - acc: 0.6250 - val_loss: 0.3262 - val_acc: 0.9167\n",
      "Epoch 10/15\n",
      "1/1 [==============================] - 1s 610ms/step - loss: 1.0760 - acc: 0.3750 - val_loss: 0.4360 - val_acc: 0.8750\n",
      "Epoch 11/15\n",
      "1/1 [==============================] - 1s 605ms/step - loss: 1.0605 - acc: 0.3750 - val_loss: 0.4525 - val_acc: 0.5833\n",
      "Epoch 12/15\n",
      "1/1 [==============================] - 1s 515ms/step - loss: 1.0247 - acc: 0.5000 - val_loss: 0.2751 - val_acc: 0.9583\n",
      "Epoch 13/15\n",
      "1/1 [==============================] - 1s 519ms/step - loss: 0.3917 - acc: 0.8750 - val_loss: 0.2946 - val_acc: 1.0000\n",
      "Epoch 14/15\n",
      "1/1 [==============================] - 1s 573ms/step - loss: 0.4916 - acc: 0.7500 - val_loss: 0.2288 - val_acc: 1.0000\n",
      "Epoch 15/15\n",
      "1/1 [==============================] - 1s 522ms/step - loss: 0.3112 - acc: 0.8750 - val_loss: 0.2172 - val_acc: 1.0000\n"
     ]
    }
   ],
   "source": [
    "model.fit_generator(\n",
    "    train_generator,\n",
    "    samples_per_epoch=samples_per_epoch,\n",
    "    epochs=epochs,\n",
    "    validation_data=validation_generator,\n",
    "    callbacks=cbks,\n",
    "    validation_steps=validation_steps)\n",
    "\n",
    "target_dir = './models/'\n",
    "if not os.path.exists(target_dir):\n",
    "    os.mkdir(target_dir)\n",
    "model.save('./models/model.h5')\n",
    "model.save_weights('./models/weights.h5')"
   ]
  },
  {
   "cell_type": "code",
   "execution_count": 14,
   "metadata": {},
   "outputs": [],
   "source": [
    "import os\n",
    "import numpy as np\n",
    "from keras.preprocessing.image import ImageDataGenerator, load_img, img_to_array\n",
    "from keras.models import Sequential, load_model"
   ]
  },
  {
   "cell_type": "code",
   "execution_count": 6,
   "metadata": {},
   "outputs": [],
   "source": [
    "img_width, img_height = 100, 100\n",
    "model_path = './models/model.h5'\n",
    "model_weights_path = './models/weights.h5'\n",
    "model = load_model(model_path)\n",
    "model.load_weights(model_weights_path)"
   ]
  },
  {
   "cell_type": "code",
   "execution_count": 7,
   "metadata": {},
   "outputs": [],
   "source": [
    "def predict(file):\n",
    "    x = load_img(file, target_size=(img_width,img_height))\n",
    "    x = img_to_array(x)\n",
    "    x = np.expand_dims(x, axis=0)\n",
    "    array = model.predict(x)\n",
    "    print(array)\n",
    "    result = array[0]\n",
    "    answer = np.argmax(result)\n",
    "    if answer == 0:\n",
    "        print(\"Label1: Exoplanet\")\n",
    "    elif answer == 1:\n",
    "        print(\"Label2: Not Exoplanet\")\n",
    "    return answer"
   ]
  },
  {
   "cell_type": "code",
   "execution_count": 9,
   "metadata": {},
   "outputs": [
    {
     "data": {
      "image/png": "[encoded data removed]",
      "text/plain": [
       "<IPython.core.display.Image object>"
      ]
     },
     "execution_count": 9,
     "metadata": {},
     "output_type": "execute_result"
    }
   ],
   "source": [
    "from IPython.display import Image\n",
    "Image(\"/home/deepak/Downloads/AI_Project/data/test/Exo1.png\")"
   ]
  },
  {
   "cell_type": "code",
   "execution_count": 15,
   "metadata": {},
   "outputs": [
    {
     "name": "stdout",
     "output_type": "stream",
     "text": [
      "[[1. 0.]]\n",
      "Label1: Exoplanet\n",
      "0\n"
     ]
    }
   ],
   "source": [
    "print(predict('/home/deepak/Downloads/AI_Project/data/test/Exo1.png'))"
   ]
  },
  {
   "cell_type": "code",
   "execution_count": 17,
   "metadata": {},
   "outputs": [
    {
     "data": {
      "image/png": "[encoded data removed]",
      "text/plain": [
       "<IPython.core.display.Image object>"
      ]
     },
     "execution_count": 17,
     "metadata": {},
     "output_type": "execute_result"
    }
   ],
   "source": [
    "Image(\"/home/deepak/Downloads/AI_Project/data/test/NotExo3.png\")"
   ]
  },
  {
   "cell_type": "code",
   "execution_count": 18,
   "metadata": {},
   "outputs": [
    {
     "name": "stdout",
     "output_type": "stream",
     "text": [
      "[[0. 1.]]\n",
      "Label2: Not Exoplanet\n",
      "1\n"
     ]
    }
   ],
   "source": [
    "print(predict('/home/deepak/Downloads/AI_Project/data/test/NotExo3.png'))"
   ]
  },
  {
   "cell_type": "code",
   "execution_count": 73,
   "metadata": {},
   "outputs": [
    {
     "name": "stdout",
     "output_type": "stream",
     "text": [
      "[[1. 0.]]\n",
      "Label1: Exoplanet\n",
      "[[1. 0.]]\n",
      "Label1: Exoplanet\n"
     ]
    },
    {
     "data": {
      "text/plain": [
       "0"
      ]
     },
     "execution_count": 73,
     "metadata": {},
     "output_type": "execute_result"
    }
   ],
   "source": [
    "predict('/home/deepak/Downloads/AI Project/data/test/Exo2.png')\n",
    "predict('/home/deepak/Downloads/AI Project/data/test/Exo6.png')"
   ]
  },
  {
   "cell_type": "code",
   "execution_count": 57,
   "metadata": {},
   "outputs": [
    {
     "name": "stdout",
     "output_type": "stream",
     "text": [
      "[[0. 1.]]\n",
      "Label2: Not Exoplanet\n",
      "1\n",
      "[[0. 1.]]\n",
      "Label2: Not Exoplanet\n",
      "1\n",
      "[[0. 1.]]\n",
      "Label2: Not Exoplanet\n",
      "1\n"
     ]
    }
   ],
   "source": [
    "print(predict('/home/deepak/Downloads/AI Project/data/test/NotExo5.png'))\n",
    "print(predict('/home/deepak/Downloads/AI Project/data/test/NotExo7.png'))"
   ]
  }
 ],
 "metadata": {
  "kernelspec": {
   "display_name": "Python 3",
   "language": "python",
   "name": "python3"
  },
  "language_info": {
   "codemirror_mode": {
    "name": "ipython",
    "version": 3
   },
   "file_extension": ".py",
   "mimetype": "text/x-python",
   "name": "python",
   "nbconvert_exporter": "python",
   "pygments_lexer": "ipython3",
   "version": "3.6.8"
  }
 },
 "nbformat": 4,
 "nbformat_minor": 2
}
